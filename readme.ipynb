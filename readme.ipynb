{
 "cells": [
  {
   "cell_type": "markdown",
   "metadata": {},
   "source": [
    "## lesson 1: characteristics of a good unit test\n",
    "- Fast: Should take milliseconds to run\n",
    "- Isolated: Standalone and can be run in isolation, have no dependencies on any outside factors like filesystem or DB\n",
    "- Repeatable: Running a Unit Test should be consistent with its results, that is, it always returns the same result if you do not change anything in between runs\n",
    "- Self-checking: The test should be able to automatically detect if it passed or failed wtihout any human interaction\n",
    "- Timely: A unit test should not take a disproportionately long time to write compared to the code being tested. If you find the code taking a large amt of time compared to writing the code, consider a design that is more testable."
   ]
  },
  {
   "cell_type": "markdown",
   "metadata": {},
   "source": [
    "## Lesson 2: Best practices: Naming your tests\n",
    "The name of your test should consider of three parts:\n",
    "- The name of the method being tested\n",
    "- The scenario under which it's being tested\n",
    "- The expected behavior when the scenario is involved\n",
    "Why?\n",
    "- Naming standards are important as they explicitly express intent of a test in a way that is commonly understood."
   ]
  },
  {
   "cell_type": "markdown",
   "metadata": {},
   "source": [
    "## Lesson 3: Arranging your tests: \"Arrange, Act, Assert\"\n",
    "This is a standard pattern when writing unit tests. As this name implies, it consists of three main actions:\n",
    "- **Arrange your objects**, creating and setting them up as necessary.\n",
    "- **Act** on an object.\n",
    "- **Assert** that something is as **expected**\n",
    "Why\n",
    "- Clearly separates what is being tested from the arrange and assert steps\n",
    "- Less chance to intermix assertions with \"act\" code.\n"
   ]
  },
  {
   "cell_type": "code",
   "execution_count": null,
   "metadata": {
    "vscode": {
     "languageId": "plaintext"
    }
   },
   "outputs": [],
   "source": [
    "[Test]\n",
    "//(We want our code to return 0 when an empty string is added.)\n",
    "public void Add_EmptyString_ReturnsZero()\n",
    "{\n",
    "// Arrange\n",
    "var stringCalculator = new StringCalculator();\n",
    "// Act\n",
    "var actual = stringCalculator.Add(\"\");\n",
    "// Assert\n",
    "Assert.Equal(0, actual);\n",
    "}"
   ]
  },
  {
   "cell_type": "markdown",
   "metadata": {},
   "source": [
    "## Exploring with units\n",
    "13. Add Unit tests to cover all the other methods: Subtract, Multiply, and Divide.\n"
   ]
  },
  {
   "cell_type": "markdown",
   "metadata": {},
   "source": [
    "## What is TDD?\n",
    "Test Driven Development (TDD) is a methodology of software development that was created to increase the quality of software systems. The **core idea is to write tests before writing the program code.** This section provides a breakdown of the key principles.\n",
    "1. Write a (Unit) test\n",
    "2. Run test to observe new failure\n",
    "3. Write minimal code to get the test to pass\n",
    "4. ReRun test to ensure it passes\n",
    "5. Refactor code to remove unecessary content."
   ]
  },
  {
   "cell_type": "markdown",
   "metadata": {},
   "source": [
    "1. Write tests first\n",
    "- a. Tests determine what code is to be written.\n",
    "- b. Testing is done in a fine-grained fashion.\n",
    "\n",
    "2. Run tests to see the failure\n",
    "- a. This can inform you of the difference between the expected and actual result. Hence, allowing for a better understanding of any adjustments needed.\n",
    "\n",
    "3. Write minimal code that gets the test to pass -- Making more future-proof changes only if they come to mind.\n",
    "\n",
    "4. Rerun the tests to ensure that the changes are effective.\n",
    "- a. If the test fails again, then continue to make minimal changes until it passes\n",
    "- b. Else the test passes, then move on to refactoring the code.\n",
    "\n",
    "5. **Refactor**: I.E Rewrite already-working code to:\n",
    "- Eliminate duplicate code\n",
    "- Simplify testing\n",
    "- Improve future use (and understanding ideally) of code\n",
    "- Follow accepted software engineering principles\n",
    "\n",
    "- Summary: Always start with a failing test. Quickly write the simplest code needed to pass the test. Refactor and repeat as needed - to meet requirements. Test everything that could possibly break."
   ]
  },
  {
   "cell_type": "markdown",
   "metadata": {},
   "source": [
    "# Task 16: Try doing TDD now whereby:\n",
    "1. Write a function for calculating the area of a triangle using TDD (given height and length). **Test cases first**\n",
    "2. Write a function for calculating the area of a circle (given only the radius as the first argument). Again, test cases first."
   ]
  },
  {
   "cell_type": "markdown",
   "metadata": {},
   "source": [
    "# Lab 2.3_SpecFlow_part3\n",
    "\n",
    "## Given the requirements above. Devise an Epic Description to represent this set of reuqiremnts\n",
    "\"As a system quality engineer, I want to use a command line calculator to perform quality metric calculations, including defect density and the total number of Shipped Source Instructions (SSI) across successive system releases. Additionally, I want to calculate failure intensity and the number of expected failures using the Musa Logarithmic model.\"\n",
    "\n",
    "## Step 20: User Story Examples\n",
    "User Story 1:\n",
    "As a system quality engineer, I want to calculate the defect density of a system so that I can assess the system's quality.\n",
    "\n",
    "User Story 2:\n",
    "As a system quality engineer, I want to calculate the total number of Shipped Source Instructions (SSI) for the second release and beyond so that I can monitor the growth of the system.\n",
    "\n",
    "User Story 3:\n",
    "As a system quality engineer, I want to calculate the failure intensity using the Musa Logarithmic model so that I can estimate system reliability.\n",
    "\n",
    "User Story 4:\n",
    "As a system quality engineer, I want to calculate the expected number of failures using the Musa Logarithmic model so that I can forecast potential system failures.\n",
    "\n"
   ]
  }
 ],
 "metadata": {
  "language_info": {
   "name": "python"
  }
 },
 "nbformat": 4,
 "nbformat_minor": 2
}
